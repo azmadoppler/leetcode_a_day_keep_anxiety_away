{
 "cells": [
  {
   "cell_type": "markdown",
   "id": "e50cb12c-7657-4da0-94e6-9e83b373aae0",
   "metadata": {},
   "source": [
    "# My solution"
   ]
  },
  {
   "cell_type": "code",
   "execution_count": 1,
   "id": "d54fc0c9-255d-4555-b6c2-99f596f47f3a",
   "metadata": {},
   "outputs": [],
   "source": [
    "class Solution:\n",
    "    def reverse(self, x: int) -> int:\n",
    "        if x < -2147483648 or x > 2147483647:\n",
    "            return 0\n",
    "        minflag = False\n",
    "        int_str = str(x)\n",
    "        if int_str[0] == \"-\": \n",
    "            minflag = True\n",
    "            int_str = int_str[1:]\n",
    "        \n",
    "        if len(int_str) == 10:\n",
    "            if int_str > '2147483647':\n",
    "                return 0\n",
    "        \n",
    "        rev_int = int(str(int_str)[::-1])\n",
    "        rev_int_str = str(rev_int)\n",
    "        \n",
    "        if len(rev_int_str) == 10:\n",
    "            if rev_int_str > '2147483647':\n",
    "                return 0\n",
    "        \n",
    "        if minflag:\n",
    "            rev_int = -rev_int\n",
    "        \n",
    "        return rev_int"
   ]
  },
  {
   "cell_type": "code",
   "execution_count": null,
   "id": "39a59d49-9a84-4dd8-b1f8-b98578a0d819",
   "metadata": {},
   "outputs": [],
   "source": []
  },
  {
   "cell_type": "code",
   "execution_count": null,
   "id": "39e0f954-f0f2-4373-805f-96137605ba64",
   "metadata": {},
   "outputs": [],
   "source": []
  },
  {
   "cell_type": "code",
   "execution_count": 62,
   "id": "361f8b1e-a10c-4d77-8596-31de66ecf867",
   "metadata": {},
   "outputs": [],
   "source": [
    "class Solution:\n",
    "    def reverse(self, x: int) -> int:\n",
    "        x = str(x)\n",
    "        if x[0]=='-':\n",
    "            x = '-'+x[:0:-1]\n",
    "        else:\n",
    "            x = x[::-1]\n",
    "        x = int(x)\n",
    "        return x if x > -2**31 and x < 2**31 else 0"
   ]
  },
  {
   "cell_type": "code",
   "execution_count": null,
   "id": "7ee254a8-6c08-482a-9d9a-ef5343b96dee",
   "metadata": {},
   "outputs": [],
   "source": []
  },
  {
   "cell_type": "markdown",
   "id": "8509cf84-019f-44ae-adb2-457b9eac3952",
   "metadata": {},
   "source": [
    "## Memo \n"
   ]
  }
 ],
 "metadata": {
  "kernelspec": {
   "display_name": "Python 3 (ipykernel)",
   "language": "python",
   "name": "python3"
  },
  "language_info": {
   "codemirror_mode": {
    "name": "ipython",
    "version": 3
   },
   "file_extension": ".py",
   "mimetype": "text/x-python",
   "name": "python",
   "nbconvert_exporter": "python",
   "pygments_lexer": "ipython3",
   "version": "3.11.9"
  }
 },
 "nbformat": 4,
 "nbformat_minor": 5
}
