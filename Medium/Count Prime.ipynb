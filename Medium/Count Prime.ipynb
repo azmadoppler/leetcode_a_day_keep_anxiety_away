{
 "cells": [
  {
   "cell_type": "markdown",
   "id": "5c576a2c-d096-46c8-b9aa-4959e78e0bbf",
   "metadata": {},
   "source": [
    "# My Solution"
   ]
  },
  {
   "cell_type": "code",
   "execution_count": 36,
   "id": "8333a903-8d80-48e8-b34e-a603c8f84611",
   "metadata": {},
   "outputs": [],
   "source": [
    "class Solution:\n",
    "    def countPrimes(self, n: int) -> int:\n",
    "        count = 0\n",
    "        arr = [True]*n\n",
    "        if n == 1 :\n",
    "            return count\n",
    "        p = 2 \n",
    "        for i in range(p,n):\n",
    "            if arr[p] == False:\n",
    "                p+=1\n",
    "                continue\n",
    "            for j in range(p*p,n,p):\n",
    "                #print(j)\n",
    "                arr[j] = False\n",
    "            #print (p*p)\n",
    "            p+=1\n",
    "        res = [p for p in arr if arr[p] == True]\n",
    "        for i,val in enumerate(arr):\n",
    "            if val == True and (i!=1) and (i!=0) :\n",
    "                count += 1\n",
    "        return count"
   ]
  },
  {
   "cell_type": "markdown",
   "id": "31f9c57a-d04a-4a9f-a4eb-9734fe11484f",
   "metadata": {},
   "source": [
    "# Best Solution "
   ]
  },
  {
   "cell_type": "code",
   "execution_count": 26,
   "id": "0ec07560-f9d4-4065-8cf2-a357091394b9",
   "metadata": {},
   "outputs": [],
   "source": [
    "class Solution:\n",
    "    def countPrimes(self, n: int) -> int:\n",
    "\n",
    "        # Sieve of Eratosthenes!\n",
    "        if n <= 1:\n",
    "            return 0\n",
    "\n",
    "        primes = [True]*(n)\n",
    "        primes[0] = primes[1] = False\n",
    "        for i in range(isqrt(n)+1):\n",
    "            if primes[i]:\n",
    "                for j in range(i*i, n, i):\n",
    "                    primes[j] = False\n",
    "       \n",
    "        return len([i for i in primes if i])"
   ]
  },
  {
   "cell_type": "markdown",
   "id": "521e94fb-ca62-41db-b4c4-9f3969b39614",
   "metadata": {},
   "source": [
    "## Memo\n",
    "- Continue is usable \n",
    "- Better get used to the syntax of for index in range(EXPPRESSION , MAX_VALUE, STEP)\n",
    "- Need to cut more on square-rootable loop\n",
    "- Don't need to loop one more time, might be better to get len() as the best solution\n",
    "- Better remember syntax for res = \\[p for p in arr if p\\]  to get all True from Array"
   ]
  }
 ],
 "metadata": {
  "kernelspec": {
   "display_name": "Python 3 (ipykernel)",
   "language": "python",
   "name": "python3"
  },
  "language_info": {
   "codemirror_mode": {
    "name": "ipython",
    "version": 3
   },
   "file_extension": ".py",
   "mimetype": "text/x-python",
   "name": "python",
   "nbconvert_exporter": "python",
   "pygments_lexer": "ipython3",
   "version": "3.11.9"
  }
 },
 "nbformat": 4,
 "nbformat_minor": 5
}
