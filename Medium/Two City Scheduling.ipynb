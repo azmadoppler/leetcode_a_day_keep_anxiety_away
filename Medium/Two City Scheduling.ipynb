{
 "cells": [
  {
   "cell_type": "markdown",
   "id": "bd2bef60-6599-4f1b-a6a7-5b87fb2871f5",
   "metadata": {},
   "source": [
    "# My Solution"
   ]
  },
  {
   "cell_type": "code",
   "execution_count": 178,
   "id": "f3579a6e-57c6-40fc-94c0-29160fa75552",
   "metadata": {},
   "outputs": [],
   "source": [
    "class Solution(object):\n",
    "    def twoCitySchedCost(self, costs):\n",
    "        \"\"\"\n",
    "        :type costs: List[List[int]]\n",
    "        :rtype: int\n",
    "        \"\"\"\n",
    "        a_min = []\n",
    "        b_min = []\n",
    "        \n",
    "        temp_val = []\n",
    "        mem = len(costs) // 2\n",
    "        \n",
    "        for item in costs:\n",
    "            val = item[0] - item[1]\n",
    "            if val == 0:\n",
    "                temp_val.append((val, item[0], item[1]))\n",
    "            elif val < 0:\n",
    "                a_min.append((val, item[0], item[1]))\n",
    "            else:\n",
    "                b_min.append((val, item[0], item[1]))\n",
    "                \n",
    "        if len(a_min)>=len(b_min) and temp_val:\n",
    "            for item in temp_val:\n",
    "                b_min.append(item)\n",
    "        elif len(b_min)>len(a_min) and temp_val:\n",
    "            for item in temp_val:\n",
    "                a_min.append(item)\n",
    "        \n",
    "        while len(a_min) > mem:\n",
    "            a_min.sort(reverse=False)\n",
    "            b_min.append(a_min.pop())\n",
    "        \n",
    "        while len(b_min) > mem:\n",
    "            b_min.sort(reverse=True)\n",
    "            a_min.append(b_min.pop())\n",
    "        \n",
    "        total_cost = 0\n",
    "        \n",
    "        for i in range(len(a_min)):\n",
    "            total_cost += a_min[i][1] \n",
    "        \n",
    "        for i in range(len(b_min)):\n",
    "            total_cost += b_min[i][2] \n",
    "\n",
    "        return total_cost"
   ]
  },
  {
   "cell_type": "code",
   "execution_count": null,
   "id": "8c801282-898e-4b2d-8527-4934540346e7",
   "metadata": {},
   "outputs": [],
   "source": []
  },
  {
   "cell_type": "markdown",
   "id": "c2adf970-af84-4544-8774-ffce9ba1584b",
   "metadata": {},
   "source": [
    "# Best Solution"
   ]
  },
  {
   "cell_type": "code",
   "execution_count": null,
   "id": "6f794314-182f-405b-9ffc-35407388c9bd",
   "metadata": {},
   "outputs": [],
   "source": [
    "class Solution(object):\n",
    "    def twoCitySchedCost(self, costs):\n",
    "        \"\"\"\n",
    "        :type costs: List[List[int]]\n",
    "        :rtype: int\n",
    "        \"\"\"\n",
    "        \n",
    "        totalCostA = 0 \n",
    "        \n",
    "        for cost in costs:\n",
    "            totalCostA += cost[0]\n",
    "\n",
    "        lostB = [costB - costA for costA, costB in costs]\n",
    "\n",
    "        totalCostB = sum(sorted(lostB)[:len(costs)/2])\n",
    "\n",
    "        return totalCostB + totalCostA"
   ]
  },
  {
   "cell_type": "code",
   "execution_count": null,
   "id": "5eb1e1c5-e60b-49c5-aef3-b8f8b8c1a5e2",
   "metadata": {},
   "outputs": [],
   "source": []
  },
  {
   "cell_type": "markdown",
   "id": "2ae67564-7a68-4ddb-9134-820f72f9e4d2",
   "metadata": {},
   "source": [
    "## Memo\n",
    "- Tuple for saving multiple array like (value,a,b) is the most important lesson here\n",
    "- In addition to the above, storing it in array of Tuple is best for sum in the end\n",
    "- Traverse with a_min\\[index]\\[pos] is also really good to know\n",
    "- "
   ]
  }
 ],
 "metadata": {
  "kernelspec": {
   "display_name": "Python 3 (ipykernel)",
   "language": "python",
   "name": "python3"
  },
  "language_info": {
   "codemirror_mode": {
    "name": "ipython",
    "version": 3
   },
   "file_extension": ".py",
   "mimetype": "text/x-python",
   "name": "python",
   "nbconvert_exporter": "python",
   "pygments_lexer": "ipython3",
   "version": "3.11.9"
  }
 },
 "nbformat": 4,
 "nbformat_minor": 5
}
