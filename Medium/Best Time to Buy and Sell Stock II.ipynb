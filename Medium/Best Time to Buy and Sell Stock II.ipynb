{
 "cells": [
  {
   "cell_type": "markdown",
   "id": "4bfc8667-a84e-4b44-8d46-694c7bf2d398",
   "metadata": {},
   "source": [
    "# My Solution"
   ]
  },
  {
   "cell_type": "code",
   "execution_count": 14,
   "id": "f2ad6eec-ecd8-4b05-8574-8f7f9024033c",
   "metadata": {},
   "outputs": [],
   "source": [
    "class Solution(object):\n",
    "    def maxProfit(self, prices):\n",
    "        \"\"\"\n",
    "        :type prices: List[int]\n",
    "        :rtype: int\n",
    "        \"\"\"\n",
    "        i=1\n",
    "        curr = 0\n",
    "        total = 0\n",
    "        while i <len(prices):\n",
    "            curr = prices[i]\n",
    "            prev = prices[i-1]\n",
    "            diff = curr - prev\n",
    "            #print(diff)\n",
    "            if (diff >0):\n",
    "                total += diff\n",
    "            \n",
    "            i+=1\n",
    "        return total\n",
    "        "
   ]
  },
  {
   "cell_type": "code",
   "execution_count": null,
   "id": "bde17837-dbd0-4899-be96-69f58c6a7e17",
   "metadata": {},
   "outputs": [],
   "source": []
  },
  {
   "cell_type": "markdown",
   "id": "ecd82416-1491-4976-8e94-cbe17af42a95",
   "metadata": {},
   "source": [
    "# Best Solution"
   ]
  },
  {
   "cell_type": "code",
   "execution_count": null,
   "id": "f82633c4-01c9-484d-9d33-f6b1c9fd67c3",
   "metadata": {},
   "outputs": [],
   "source": [
    "class Solution(object):\n",
    "    def maxProfit(self, prices):\n",
    "        \"\"\"\n",
    "        :type prices: List[int]\n",
    "        :rtype: int\n",
    "        \"\"\"\n",
    "        profit = 0\n",
    "        for i in range(0, len(prices)-1):\n",
    "            if prices[i] < prices[i+1]:\n",
    "                profit += prices[i+1] - prices[i]\n",
    "        return profit\n"
   ]
  },
  {
   "cell_type": "code",
   "execution_count": null,
   "id": "70d73acc-f8a3-4320-abe5-7f3b60999dce",
   "metadata": {},
   "outputs": [],
   "source": []
  },
  {
   "cell_type": "markdown",
   "id": "1b0652cf-766a-4cda-83e7-af3db94d0b00",
   "metadata": {},
   "source": [
    "## Memo \n",
    "- "
   ]
  }
 ],
 "metadata": {
  "kernelspec": {
   "display_name": "Python 3 (ipykernel)",
   "language": "python",
   "name": "python3"
  },
  "language_info": {
   "codemirror_mode": {
    "name": "ipython",
    "version": 3
   },
   "file_extension": ".py",
   "mimetype": "text/x-python",
   "name": "python",
   "nbconvert_exporter": "python",
   "pygments_lexer": "ipython3",
   "version": "3.9.19"
  }
 },
 "nbformat": 4,
 "nbformat_minor": 5
}
