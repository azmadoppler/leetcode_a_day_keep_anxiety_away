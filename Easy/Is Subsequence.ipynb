{
 "cells": [
  {
   "cell_type": "code",
   "execution_count": null,
   "id": "ba4d5c1a-72ff-4f04-bc30-0c219c6d94a0",
   "metadata": {},
   "outputs": [],
   "source": []
  },
  {
   "cell_type": "code",
   "execution_count": 28,
   "id": "a67ab2a0-5c03-491b-b90f-3e09573f1932",
   "metadata": {},
   "outputs": [],
   "source": [
    "class Solution:\n",
    "    def isSubsequence(self, s: str, t: str) -> bool:\n",
    "        s_counter = 0\n",
    "        t_counter = 0\n",
    "        if (s==\"\" and t!=\"\"):\n",
    "            return True\n",
    "        if (s==\"\" and t==\"\"):\n",
    "            return True\n",
    "        while( t_counter  < len(t) ):\n",
    "            if (s[s_counter] == t[t_counter]):\n",
    "                s_counter+=1 \n",
    "                if s_counter == len(s):\n",
    "                    return True\n",
    "            t_counter +=1\n",
    "        \n",
    "        return False"
   ]
  },
  {
   "cell_type": "code",
   "execution_count": null,
   "id": "39f66147-6f70-43f2-86b5-fd94d6843b31",
   "metadata": {},
   "outputs": [],
   "source": []
  },
  {
   "cell_type": "code",
   "execution_count": 29,
   "id": "18cfc0b2-3124-49c0-b56e-fb759366ac5f",
   "metadata": {},
   "outputs": [],
   "source": [
    "class Solution:\n",
    "    def isSubsequence(self, s: str, t: str) -> bool:\n",
    "        counter = 0\n",
    "\n",
    "        #Base case\n",
    "        if len(s) < 1 and len(t) > 1:\n",
    "            return True\n",
    "        if len(s) < 1 and len(t) < 1:\n",
    "            return True\n",
    "        if len(t) < 1:\n",
    "            return False\n",
    "        \n",
    "        for char in range(len(t)):\n",
    "            if s[counter] == t[char]:\n",
    "                counter += 1\n",
    "            if counter == len(s):\n",
    "                return counter == len(s)\n",
    "        return False"
   ]
  }
 ],
 "metadata": {
  "kernelspec": {
   "display_name": "Python 3 (ipykernel)",
   "language": "python",
   "name": "python3"
  },
  "language_info": {
   "codemirror_mode": {
    "name": "ipython",
    "version": 3
   },
   "file_extension": ".py",
   "mimetype": "text/x-python",
   "name": "python",
   "nbconvert_exporter": "python",
   "pygments_lexer": "ipython3",
   "version": "3.11.9"
  }
 },
 "nbformat": 4,
 "nbformat_minor": 5
}
