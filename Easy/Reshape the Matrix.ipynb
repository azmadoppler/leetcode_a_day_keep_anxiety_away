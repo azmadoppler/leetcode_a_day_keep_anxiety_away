{
 "cells": [
  {
   "cell_type": "markdown",
   "id": "71e6e05d-28c8-4c16-9d90-6ea6899befa6",
   "metadata": {},
   "source": [
    "Question : \n",
    "https://leetcode.com/problems/reshape-the-matrix/description/"
   ]
  },
  {
   "cell_type": "markdown",
   "id": "4b892054-bff8-4865-b400-330eefb9087a",
   "metadata": {},
   "source": [
    "### My Solution"
   ]
  },
  {
   "cell_type": "code",
   "execution_count": 134,
   "id": "6712c8a7-cd92-48d0-becf-635c853b2546",
   "metadata": {},
   "outputs": [],
   "source": [
    "import numpy as np\n",
    "class Solution(object):\n",
    "    def matrixReshape(self, mat, r, c):\n",
    "        \"\"\"\n",
    "        :type mat: List[List[int]]\n",
    "        :type r: int\n",
    "        :type c: int\n",
    "        :rtype: List[List[int]]\n",
    "        \"\"\"\n",
    "        i = 0\n",
    "        j = 0\n",
    "        store = []\n",
    "        for row in mat:\n",
    "            for item in row:\n",
    "                store.append(item)\n",
    "        if r*c != len(store):\n",
    "            return mat\n",
    "        new_arr = np.ones([r,c],dtype=int)\n",
    "\n",
    "        for i in range(i,r):\n",
    "            for j in range(j,c):\n",
    "                new_arr[i][j] = store.pop(0)\n",
    "            j =0 \n",
    "        return new_arr"
   ]
  },
  {
   "cell_type": "markdown",
   "id": "708853ae-2a47-4e7b-af0e-d650bf0b145e",
   "metadata": {},
   "source": [
    "### Best Solution"
   ]
  },
  {
   "cell_type": "code",
   "execution_count": 132,
   "id": "134021cf-c8a3-4188-a0e5-07117894e619",
   "metadata": {},
   "outputs": [],
   "source": [
    "class Solution(object):\n",
    "    def matrixReshape(self, mat, r, c):\n",
    "        \"\"\"\n",
    "        :type mat: List[List[int]]\n",
    "        :type r: int\n",
    "        :type c: int\n",
    "        :rtype: List[List[int]]\n",
    "        \"\"\"\n",
    "        m, n = len(mat), len(mat[0])\n",
    "        if m * n != r * c:\n",
    "            return mat\n",
    "        \n",
    "        nums = []\n",
    "        for i in range(m):\n",
    "            for j in range(n):\n",
    "                nums.append(mat[i][j])\n",
    "        \n",
    "        counter = 0\n",
    "        newMat = []\n",
    "        for i in range(r):\n",
    "            row = []\n",
    "            for j in range(c): \n",
    "                row.append(nums[counter])\n",
    "                counter += 1\n",
    "            newMat.append(row)\n",
    "        \n",
    "        return newMat"
   ]
  },
  {
   "cell_type": "markdown",
   "id": "c6d013cf-09a6-4c4b-be4f-1b1f7b0221e2",
   "metadata": {},
   "source": [
    "### Memo \n",
    "- stack 1D array is like best solution instead of using np for array\n",
    "- importing numpy is \"too much waste of time\"\n",
    "- using Deque for pop(0) is also usable in many competitors\n",
    "- Don't forgot to initilize data type for numpy\n",
    "- Not that bad time, good for afternoon wakeup call"
   ]
  }
 ],
 "metadata": {
  "kernelspec": {
   "display_name": "Python 3 (ipykernel)",
   "language": "python",
   "name": "python3"
  },
  "language_info": {
   "codemirror_mode": {
    "name": "ipython",
    "version": 3
   },
   "file_extension": ".py",
   "mimetype": "text/x-python",
   "name": "python",
   "nbconvert_exporter": "python",
   "pygments_lexer": "ipython3",
   "version": "3.11.9"
  }
 },
 "nbformat": 4,
 "nbformat_minor": 5
}
