{
  "metadata": {
    "kernelspec": {
      "name": "python",
      "display_name": "Python (Pyodide)",
      "language": "python"
    },
    "language_info": {
      "codemirror_mode": {
        "name": "python",
        "version": 3
      },
      "file_extension": ".py",
      "mimetype": "text/x-python",
      "name": "python",
      "nbconvert_exporter": "python",
      "pygments_lexer": "ipython3",
      "version": "3.8"
    }
  },
  "nbformat_minor": 4,
  "nbformat": 4,
  "cells": [
    {
      "cell_type": "markdown",
      "source": "# My Solution",
      "metadata": {}
    },
    {
      "cell_type": "code",
      "source": "class Solution:\n    def isValid(self, s: str) -> bool:\n        stack = []\n        ans = True\n        for item in s:\n            if len(stack)==0:\n                stack.append(item)\n            elif (item==\"(\" or item =='[' or item == '{'):\n                stack.append(item)\n            elif (item == \")\" and stack.pop() != \"(\"):\n                return False\n            elif (item == \"]\" and stack.pop() != \"[\"):\n                return False\n            elif (item == \"}\" and stack.pop() != \"{\"):\n                return False\n        if len(stack)>=1:\n            return False\n        return True\n        ",
      "metadata": {
        "trusted": true
      },
      "outputs": [],
      "execution_count": 60
    },
    {
      "cell_type": "markdown",
      "source": "# Best Solution",
      "metadata": {}
    },
    {
      "cell_type": "code",
      "source": "class Solution:\n    def isValid(self, s: str) -> bool:\n        d = []\n        check = {')':'(','}':'{',']':'['}\n        for i in s:\n            if len(d)==0:\n                d+=i\n            else:\n                if i in check and d[-1]==check[i]:\n                    d.pop()\n                else:\n                    d+=i\n        if len(d)==0:\n            return True\n        else:\n            return False\n        ",
      "metadata": {
        "trusted": true
      },
      "outputs": [],
      "execution_count": 61
    },
    {
      "cell_type": "markdown",
      "source": "## Memo \n- Good time, Poggers\n- Was running with if else because the \\[()] case before going back to stack because there's no string between\n- Instead of checking each string, might be better to save it as ",
      "metadata": {
        "jp-MarkdownHeadingCollapsed": true
      }
    }
  ]
}