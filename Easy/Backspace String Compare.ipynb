{
  "metadata": {
    "kernelspec": {
      "name": "python",
      "display_name": "Python (Pyodide)",
      "language": "python"
    },
    "language_info": {
      "codemirror_mode": {
        "name": "python",
        "version": 3
      },
      "file_extension": ".py",
      "mimetype": "text/x-python",
      "name": "python",
      "nbconvert_exporter": "python",
      "pygments_lexer": "ipython3",
      "version": "3.8"
    }
  },
  "nbformat_minor": 4,
  "nbformat": 4,
  "cells": [
    {
      "cell_type": "markdown",
      "source": "# My Solution",
      "metadata": {}
    },
    {
      "cell_type": "code",
      "source": "class Solution:\n    def backspaceCompare(self, s: str, t: str) -> bool:\n        first = []\n        second = []\n        for item in s:\n            if (item == \"#\" and len(first) >=1 ):\n                first.pop()\n            else:\n                first.append(item)\n        for item in t:\n            if (item == \"#\" and len(second) >=1 ):\n                second.pop()\n            else:\n                second.append(item)\n            \n        return second==first",
      "metadata": {
        "trusted": true
      },
      "outputs": [],
      "execution_count": 29
    },
    {
      "cell_type": "markdown",
      "source": "# Other Solution",
      "metadata": {}
    },
    {
      "cell_type": "code",
      "source": "class Solution:\n    def backspaceCompare(self, s: str, t: str) -> bool:\n        stackS = []\n        stackT = []\n        for i in s:\n            if (i == \"#\" and len(stackS) != 0): stackS.pop()\n            elif (i != \"#\"): stackS.append(i)\n        for i in t:\n            if (i == \"#\" and len(stackT) != 0): stackT.pop()\n            elif (i != \"#\"): stackT.append(i)\n        print(stackT, stackS)\n        return stackT == stackS",
      "metadata": {
        "trusted": true
      },
      "outputs": [],
      "execution_count": 27
    },
    {
      "cell_type": "code",
      "source": "",
      "metadata": {
        "trusted": true
      },
      "outputs": [],
      "execution_count": null
    },
    {
      "cell_type": "code",
      "source": "",
      "metadata": {
        "trusted": true
      },
      "outputs": [],
      "execution_count": null
    },
    {
      "cell_type": "code",
      "source": "",
      "metadata": {
        "trusted": true
      },
      "outputs": [],
      "execution_count": null
    }
  ]
}