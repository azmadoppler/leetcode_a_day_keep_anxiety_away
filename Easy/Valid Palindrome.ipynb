{
 "cells": [
  {
   "cell_type": "markdown",
   "id": "9fe0a06a-7d94-490c-b1eb-e7be183a01ec",
   "metadata": {},
   "source": [
    "# My Solution"
   ]
  },
  {
   "cell_type": "code",
   "execution_count": 87,
   "id": "6f105c77-53f7-467c-8aec-3f8e8a822d79",
   "metadata": {},
   "outputs": [],
   "source": [
    "class Solution:\n",
    "    def isPalindrome(self, s: str) -> bool:\n",
    "        res = []\n",
    "        for item in s:\n",
    "            item = item.lower()\n",
    "            if item.isalpha() or item.isdigit():\n",
    "                res.append(item)\n",
    "        if (len(res) == 0) or (len(res) == 1):\n",
    "            return True\n",
    "        str_len = len(res)   \n",
    "        half_len = str_len//2\n",
    "        flag = 0\n",
    "        for i in range(half_len):\n",
    "            if res[i] == res[str_len-1-i]:\n",
    "                flag = 1\n",
    "            else :\n",
    "                flag = 0\n",
    "                break\n",
    "            i+=1\n",
    "        if flag == 1:\n",
    "            return True \n",
    "        return False\n",
    "        "
   ]
  },
  {
   "cell_type": "markdown",
   "id": "fbfec2a5-1b54-475d-adf8-e9d2e5e5201b",
   "metadata": {},
   "source": [
    "# Other Solution"
   ]
  },
  {
   "cell_type": "code",
   "execution_count": 92,
   "id": "c9729f10-283b-4f38-ac45-ab2e81dda9a2",
   "metadata": {},
   "outputs": [],
   "source": [
    "class Solution:\n",
    "    def isPalindrome(self, s: str) -> bool:\n",
    "        newStr = \"\"\n",
    "\n",
    "        for i in s:\n",
    "            if i.isalnum():\n",
    "                newStr += i.lower()\n",
    "        return newStr ==newStr[::-1]"
   ]
  },
  {
   "cell_type": "markdown",
   "id": "75e3c2cc-57db-4a33-b0c3-9fcb4ad9ddff",
   "metadata": {},
   "source": [
    "# Memo\n",
    "- Use .isalnum for stripping character + space at same time\n",
    "- isAlpha or isDigit for any check specific\n",
    "- arr\\[::-1\\] is great for reverse string check\n",
    "- No need to use new arr.append, can also just use String instead "
   ]
  },
  {
   "cell_type": "code",
   "execution_count": null,
   "id": "c04dc6b5-5c25-4d77-b954-52c56444a36a",
   "metadata": {},
   "outputs": [],
   "source": []
  }
 ],
 "metadata": {
  "kernelspec": {
   "display_name": "Python 3 (ipykernel)",
   "language": "python",
   "name": "python3"
  },
  "language_info": {
   "codemirror_mode": {
    "name": "ipython",
    "version": 3
   },
   "file_extension": ".py",
   "mimetype": "text/x-python",
   "name": "python",
   "nbconvert_exporter": "python",
   "pygments_lexer": "ipython3",
   "version": "3.11.9"
  }
 },
 "nbformat": 4,
 "nbformat_minor": 5
}
