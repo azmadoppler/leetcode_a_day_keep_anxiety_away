{
 "cells": [
  {
   "cell_type": "markdown",
   "id": "a9f65fbc-8aea-4afc-b804-e0bd44012f5b",
   "metadata": {},
   "source": [
    "### personl random idea"
   ]
  },
  {
   "cell_type": "code",
   "execution_count": 78,
   "id": "f69312a3-4f31-486c-8c1a-9783b6276482",
   "metadata": {},
   "outputs": [],
   "source": [
    "def longestCommonPrefix(strs):\n",
    "    total = 0\n",
    "    temp = set()\n",
    "    for i in range(0,200):\n",
    "        temp = set()\n",
    "        try:\n",
    "            for str in strs:\n",
    "                temp.add(str[i]) \n",
    "            if len(temp) == 1:\n",
    "                total +=1\n",
    "            else:\n",
    "                break\n",
    "        except:\n",
    "            break\n",
    "        \n",
    "    return strs[0][:total]\n",
    "\n"
   ]
  },
  {
   "cell_type": "code",
   "execution_count": 73,
   "id": "4992c9b3-5f44-4a9b-9406-1a9d539aed37",
   "metadata": {},
   "outputs": [
    {
     "data": {
      "text/plain": [
       "'fl'"
      ]
     },
     "execution_count": 73,
     "metadata": {},
     "output_type": "execute_result"
    }
   ],
   "source": [
    "strs = [\"flower\",\"flow\",\"flight\"]\n",
    "temp = longestCommonPrefix(strs)\n",
    "temp"
   ]
  },
  {
   "cell_type": "markdown",
   "id": "27d3ba0a-e8cc-4b98-bed7-b77fbdbc4c16",
   "metadata": {},
   "source": [
    "### Drafted Idea"
   ]
  },
  {
   "cell_type": "code",
   "execution_count": 74,
   "id": "2a9791bd-b251-4d2d-a418-cb8d1c9e4e59",
   "metadata": {},
   "outputs": [],
   "source": [
    "def longestCommonPrefix(strs):\n",
    "    \"\"\"\n",
    "    :type strs: List[str]\n",
    "    :rtype: str\n",
    "    \"\"\"\n",
    "    res = \"\"\n",
    "    for i in range(len(strs[0])): \n",
    "        for s in strs: \n",
    "            if i == len(s) or s[i] != strs[0][i]: \n",
    "                return res \n",
    "        res += strs[0][i]\n",
    "    return res"
   ]
  },
  {
   "cell_type": "markdown",
   "id": "e3f7a85d-f098-4d94-9076-ce737a80f501",
   "metadata": {},
   "source": [
    "### Memo\n",
    "- Wanna be cool and use Set -> end up spending quite a lot of time\n",
    "- probably easiest way to just check only first input so don't need to add Try/Except for OOB\n",
    "- Thinking very fast in CPP but when having to converted to Python take forever\n",
    "- Better get used to string\\[length:maxlength\\] for substring more\n",
    "- Good memory, shit time"
   ]
  },
  {
   "cell_type": "code",
   "execution_count": null,
   "id": "38d3d6ed-8644-4a3f-bebf-960b49304fe6",
   "metadata": {},
   "outputs": [],
   "source": []
  }
 ],
 "metadata": {
  "kernelspec": {
   "display_name": "Python 3 (ipykernel)",
   "language": "python",
   "name": "python3"
  },
  "language_info": {
   "codemirror_mode": {
    "name": "ipython",
    "version": 3
   },
   "file_extension": ".py",
   "mimetype": "text/x-python",
   "name": "python",
   "nbconvert_exporter": "python",
   "pygments_lexer": "ipython3",
   "version": "3.11.9"
  }
 },
 "nbformat": 4,
 "nbformat_minor": 5
}
