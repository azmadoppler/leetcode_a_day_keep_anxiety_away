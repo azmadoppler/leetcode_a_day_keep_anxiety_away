{
  "metadata": {
    "kernelspec": {
      "name": "python",
      "display_name": "Python (Pyodide)",
      "language": "python"
    },
    "language_info": {
      "codemirror_mode": {
        "name": "python",
        "version": 3
      },
      "file_extension": ".py",
      "mimetype": "text/x-python",
      "name": "python",
      "nbconvert_exporter": "python",
      "pygments_lexer": "ipython3",
      "version": "3.8"
    }
  },
  "nbformat_minor": 4,
  "nbformat": 4,
  "cells": [
    {
      "cell_type": "code",
      "source": "n = 100\narr = [True]*n\np = 2 \nfor i in range(p,n):\n    if arr[p] == False:\n        p+=1\n        continue\n    for j in range(p*p,n,p):\n        #print(j)\n        arr[j] = False\n    #print (p*p)\n    p+=1\nres = [p for p in arr if arr[p] == True]\nfor i,val in enumerate(arr):\n    if val == True and (i!=1) and (i!=0) :\n        print (i)",
      "metadata": {
        "trusted": true
      },
      "outputs": [
        {
          "name": "stdout",
          "text": "2\n3\n5\n7\n11\n13\n17\n19\n23\n29\n31\n37\n41\n43\n47\n53\n59\n61\n67\n71\n73\n79\n83\n89\n97\n",
          "output_type": "stream"
        }
      ],
      "execution_count": 99
    },
    {
      "cell_type": "code",
      "source": "while (p * p <= n):\n    if (arr[p] == True):\n        for i in range(p * p, n, p):\n            arr[i] = False\n    p += 1\n\n# Print prime numbers\nfor i in range(2, n):\n    if arr[i]:\n        print(i)",
      "metadata": {
        "trusted": true
      },
      "outputs": [],
      "execution_count": null
    },
    {
      "cell_type": "code",
      "source": "",
      "metadata": {
        "trusted": true
      },
      "outputs": [
        {
          "name": "stdout",
          "text": "2\n3\n5\n7\n11\n13\n17\n19\n23\n29\n31\n37\n41\n43\n47\n53\n59\n61\n67\n71\n73\n79\n83\n89\n97\n",
          "output_type": "stream"
        }
      ],
      "execution_count": 97
    }
  ]
}